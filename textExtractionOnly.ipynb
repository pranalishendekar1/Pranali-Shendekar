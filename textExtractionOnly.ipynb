{
  "nbformat": 4,
  "nbformat_minor": 0,
  "metadata": {
    "colab": {
      "provenance": []
    },
    "kernelspec": {
      "name": "python3",
      "display_name": "Python 3"
    },
    "language_info": {
      "name": "python"
    },
    "accelerator": "GPU",
    "gpuClass": "standard"
  },
  "cells": [
    {
      "cell_type": "code",
      "execution_count": 1,
      "metadata": {
        "colab": {
          "base_uri": "https://localhost:8080/"
        },
        "id": "NqG2wqdR6Q0k",
        "outputId": "9c9f052a-0a64-4131-b8fc-8807490bbcfb"
      },
      "outputs": [
        {
          "output_type": "stream",
          "name": "stdout",
          "text": [
            "Looking in indexes: https://pypi.org/simple, https://us-python.pkg.dev/colab-wheels/public/simple/\n",
            "Collecting easyocr\n",
            "  Downloading easyocr-1.6.2-py3-none-any.whl (2.9 MB)\n",
            "\u001b[2K     \u001b[90m━━━━━━━━━━━━━━━━━━━━━━━━━━━━━━━━━━━━━━━━\u001b[0m \u001b[32m2.9/2.9 MB\u001b[0m \u001b[31m34.2 MB/s\u001b[0m eta \u001b[36m0:00:00\u001b[0m\n",
            "\u001b[?25hRequirement already satisfied: numpy in /usr/local/lib/python3.10/dist-packages (from easyocr) (1.22.4)\n",
            "Collecting pyclipper\n",
            "  Downloading pyclipper-1.3.0.post4-cp310-cp310-manylinux_2_12_x86_64.manylinux2010_x86_64.whl (813 kB)\n",
            "\u001b[2K     \u001b[90m━━━━━━━━━━━━━━━━━━━━━━━━━━━━━━━━━━━━━━\u001b[0m \u001b[32m813.9/813.9 kB\u001b[0m \u001b[31m57.7 MB/s\u001b[0m eta \u001b[36m0:00:00\u001b[0m\n",
            "\u001b[?25hRequirement already satisfied: scikit-image in /usr/local/lib/python3.10/dist-packages (from easyocr) (0.19.3)\n",
            "Requirement already satisfied: torchvision>=0.5 in /usr/local/lib/python3.10/dist-packages (from easyocr) (0.15.1+cu118)\n",
            "Requirement already satisfied: scipy in /usr/local/lib/python3.10/dist-packages (from easyocr) (1.10.1)\n",
            "Collecting ninja\n",
            "  Downloading ninja-1.11.1-py2.py3-none-manylinux_2_12_x86_64.manylinux2010_x86_64.whl (145 kB)\n",
            "\u001b[2K     \u001b[90m━━━━━━━━━━━━━━━━━━━━━━━━━━━━━━━━━━━━━━\u001b[0m \u001b[32m146.0/146.0 kB\u001b[0m \u001b[31m20.8 MB/s\u001b[0m eta \u001b[36m0:00:00\u001b[0m\n",
            "\u001b[?25hCollecting python-bidi\n",
            "  Downloading python_bidi-0.4.2-py2.py3-none-any.whl (30 kB)\n",
            "Collecting opencv-python-headless<=4.5.4.60\n",
            "  Downloading opencv_python_headless-4.5.4.60-cp310-cp310-manylinux_2_17_x86_64.manylinux2014_x86_64.whl (47.6 MB)\n",
            "\u001b[2K     \u001b[90m━━━━━━━━━━━━━━━━━━━━━━━━━━━━━━━━━━━━━━━━\u001b[0m \u001b[32m47.6/47.6 MB\u001b[0m \u001b[31m14.4 MB/s\u001b[0m eta \u001b[36m0:00:00\u001b[0m\n",
            "\u001b[?25hRequirement already satisfied: torch in /usr/local/lib/python3.10/dist-packages (from easyocr) (2.0.0+cu118)\n",
            "Requirement already satisfied: Pillow in /usr/local/lib/python3.10/dist-packages (from easyocr) (8.4.0)\n",
            "Requirement already satisfied: PyYAML in /usr/local/lib/python3.10/dist-packages (from easyocr) (6.0)\n",
            "Requirement already satisfied: Shapely in /usr/local/lib/python3.10/dist-packages (from easyocr) (2.0.1)\n",
            "Requirement already satisfied: requests in /usr/local/lib/python3.10/dist-packages (from torchvision>=0.5->easyocr) (2.27.1)\n",
            "Requirement already satisfied: networkx in /usr/local/lib/python3.10/dist-packages (from torch->easyocr) (3.1)\n",
            "Requirement already satisfied: typing-extensions in /usr/local/lib/python3.10/dist-packages (from torch->easyocr) (4.5.0)\n",
            "Requirement already satisfied: triton==2.0.0 in /usr/local/lib/python3.10/dist-packages (from torch->easyocr) (2.0.0)\n",
            "Requirement already satisfied: jinja2 in /usr/local/lib/python3.10/dist-packages (from torch->easyocr) (3.1.2)\n",
            "Requirement already satisfied: filelock in /usr/local/lib/python3.10/dist-packages (from torch->easyocr) (3.12.0)\n",
            "Requirement already satisfied: sympy in /usr/local/lib/python3.10/dist-packages (from torch->easyocr) (1.11.1)\n",
            "Requirement already satisfied: lit in /usr/local/lib/python3.10/dist-packages (from triton==2.0.0->torch->easyocr) (16.0.2)\n",
            "Requirement already satisfied: cmake in /usr/local/lib/python3.10/dist-packages (from triton==2.0.0->torch->easyocr) (3.25.2)\n",
            "Requirement already satisfied: six in /usr/local/lib/python3.10/dist-packages (from python-bidi->easyocr) (1.16.0)\n",
            "Requirement already satisfied: tifffile>=2019.7.26 in /usr/local/lib/python3.10/dist-packages (from scikit-image->easyocr) (2023.4.12)\n",
            "Requirement already satisfied: PyWavelets>=1.1.1 in /usr/local/lib/python3.10/dist-packages (from scikit-image->easyocr) (1.4.1)\n",
            "Requirement already satisfied: packaging>=20.0 in /usr/local/lib/python3.10/dist-packages (from scikit-image->easyocr) (23.1)\n",
            "Requirement already satisfied: imageio>=2.4.1 in /usr/local/lib/python3.10/dist-packages (from scikit-image->easyocr) (2.25.1)\n",
            "Requirement already satisfied: MarkupSafe>=2.0 in /usr/local/lib/python3.10/dist-packages (from jinja2->torch->easyocr) (2.1.2)\n",
            "Requirement already satisfied: certifi>=2017.4.17 in /usr/local/lib/python3.10/dist-packages (from requests->torchvision>=0.5->easyocr) (2022.12.7)\n",
            "Requirement already satisfied: charset-normalizer~=2.0.0 in /usr/local/lib/python3.10/dist-packages (from requests->torchvision>=0.5->easyocr) (2.0.12)\n",
            "Requirement already satisfied: idna<4,>=2.5 in /usr/local/lib/python3.10/dist-packages (from requests->torchvision>=0.5->easyocr) (3.4)\n",
            "Requirement already satisfied: urllib3<1.27,>=1.21.1 in /usr/local/lib/python3.10/dist-packages (from requests->torchvision>=0.5->easyocr) (1.26.15)\n",
            "Requirement already satisfied: mpmath>=0.19 in /usr/local/lib/python3.10/dist-packages (from sympy->torch->easyocr) (1.3.0)\n",
            "Installing collected packages: pyclipper, ninja, python-bidi, opencv-python-headless, easyocr\n",
            "  Attempting uninstall: opencv-python-headless\n",
            "    Found existing installation: opencv-python-headless 4.7.0.72\n",
            "    Uninstalling opencv-python-headless-4.7.0.72:\n",
            "      Successfully uninstalled opencv-python-headless-4.7.0.72\n",
            "Successfully installed easyocr-1.6.2 ninja-1.11.1 opencv-python-headless-4.5.4.60 pyclipper-1.3.0.post4 python-bidi-0.4.2\n"
          ]
        }
      ],
      "source": [
        "pip install easyocr"
      ]
    },
    {
      "cell_type": "code",
      "source": [
        "pip install pytesseract"
      ],
      "metadata": {
        "colab": {
          "base_uri": "https://localhost:8080/"
        },
        "id": "8oc4zi3E65hD",
        "outputId": "dd2a7717-89fc-4bb0-da51-40d759ea5da5"
      },
      "execution_count": 2,
      "outputs": [
        {
          "output_type": "stream",
          "name": "stdout",
          "text": [
            "Looking in indexes: https://pypi.org/simple, https://us-python.pkg.dev/colab-wheels/public/simple/\n",
            "Collecting pytesseract\n",
            "  Downloading pytesseract-0.3.10-py3-none-any.whl (14 kB)\n",
            "Requirement already satisfied: Pillow>=8.0.0 in /usr/local/lib/python3.10/dist-packages (from pytesseract) (8.4.0)\n",
            "Requirement already satisfied: packaging>=21.3 in /usr/local/lib/python3.10/dist-packages (from pytesseract) (23.1)\n",
            "Installing collected packages: pytesseract\n",
            "Successfully installed pytesseract-0.3.10\n"
          ]
        }
      ]
    },
    {
      "cell_type": "code",
      "source": [
        "!sudo apt install tesseract-ocr"
      ],
      "metadata": {
        "colab": {
          "base_uri": "https://localhost:8080/"
        },
        "id": "z7Jit0lZ65uV",
        "outputId": "9ab7b5b1-1b3c-41d8-a064-dbde0de5956d"
      },
      "execution_count": 3,
      "outputs": [
        {
          "output_type": "stream",
          "name": "stdout",
          "text": [
            "Reading package lists... Done\n",
            "Building dependency tree       \n",
            "Reading state information... Done\n",
            "The following additional packages will be installed:\n",
            "  tesseract-ocr-eng tesseract-ocr-osd\n",
            "The following NEW packages will be installed:\n",
            "  tesseract-ocr tesseract-ocr-eng tesseract-ocr-osd\n",
            "0 upgraded, 3 newly installed, 0 to remove and 24 not upgraded.\n",
            "Need to get 4,850 kB of archives.\n",
            "After this operation, 16.3 MB of additional disk space will be used.\n",
            "Get:1 http://archive.ubuntu.com/ubuntu focal/universe amd64 tesseract-ocr-eng all 1:4.00~git30-7274cfa-1 [1,598 kB]\n",
            "Get:2 http://archive.ubuntu.com/ubuntu focal/universe amd64 tesseract-ocr-osd all 1:4.00~git30-7274cfa-1 [2,990 kB]\n",
            "Get:3 http://archive.ubuntu.com/ubuntu focal/universe amd64 tesseract-ocr amd64 4.1.1-2build2 [262 kB]\n",
            "Fetched 4,850 kB in 1s (8,204 kB/s)\n",
            "debconf: unable to initialize frontend: Dialog\n",
            "debconf: (No usable dialog-like program is installed, so the dialog based frontend cannot be used. at /usr/share/perl5/Debconf/FrontEnd/Dialog.pm line 76, <> line 3.)\n",
            "debconf: falling back to frontend: Readline\n",
            "debconf: unable to initialize frontend: Readline\n",
            "debconf: (This frontend requires a controlling tty.)\n",
            "debconf: falling back to frontend: Teletype\n",
            "dpkg-preconfigure: unable to re-open stdin: \n",
            "Selecting previously unselected package tesseract-ocr-eng.\n",
            "(Reading database ... 122519 files and directories currently installed.)\n",
            "Preparing to unpack .../tesseract-ocr-eng_1%3a4.00~git30-7274cfa-1_all.deb ...\n",
            "Unpacking tesseract-ocr-eng (1:4.00~git30-7274cfa-1) ...\n",
            "Selecting previously unselected package tesseract-ocr-osd.\n",
            "Preparing to unpack .../tesseract-ocr-osd_1%3a4.00~git30-7274cfa-1_all.deb ...\n",
            "Unpacking tesseract-ocr-osd (1:4.00~git30-7274cfa-1) ...\n",
            "Selecting previously unselected package tesseract-ocr.\n",
            "Preparing to unpack .../tesseract-ocr_4.1.1-2build2_amd64.deb ...\n",
            "Unpacking tesseract-ocr (4.1.1-2build2) ...\n",
            "Setting up tesseract-ocr-eng (1:4.00~git30-7274cfa-1) ...\n",
            "Setting up tesseract-ocr-osd (1:4.00~git30-7274cfa-1) ...\n",
            "Setting up tesseract-ocr (4.1.1-2build2) ...\n",
            "Processing triggers for man-db (2.9.1-1) ...\n"
          ]
        }
      ]
    },
    {
      "cell_type": "code",
      "source": [
        "import pytesseract\n",
        "import pandas as pd\n",
        "import numpy as np\n",
        "import re\n",
        "import os\n",
        "import easyocr\n",
        "import cv2\n",
        "import matplotlib.patches as patches\n",
        "from PIL import Image"
      ],
      "metadata": {
        "id": "yb-CGocG7HGM"
      },
      "execution_count": 4,
      "outputs": []
    },
    {
      "cell_type": "code",
      "source": [
        "### this works Tesseract and easyOCR mix\n",
        "#text extraction function\n",
        "def extract_text_from_images(folder_path):\n",
        "    # Defining path to tesseract.exe\n",
        "    #path_to_tesseract = r\"C:\\Program Files\\Tesseract-OCR\\tesseract.exe\"\n",
        "    #path_to_tesseract = r\"C:\\Users\\jbaggett\\Anaconda3\\envs\\fastai3\\Library\\bin\\tesseract.exe\"\n",
        "  \n",
        "    # Providing the tesseract executable location to pytesseract library\n",
        "    #pytesseract.tesseract_cmd = path_to_tesseract\n",
        "    pytesseract.pytesseract.tesseract_cmd = '/usr/bin/tesseract'\n",
        "    # Initialize an empty list to store the extracted text and filenames\n",
        "    text_list = []\n",
        "    files = os.listdir(folder_path)\n",
        "    \n",
        "    # Loop through all the files in the folder\n",
        "    for file_name in files:\n",
        "        # Check if the file is an image\n",
        "        if file_name.endswith(('.png', '.jpg', '.jpeg', '.bmp')):\n",
        "            # Construct the full path to the image file\n",
        "            image_path = os.path.join(folder_path, file_name)\n",
        "            \n",
        "            # Open the image file and store it in an image object\n",
        "            img = Image.open(image_path)\n",
        "            \n",
        "            # recast image as numpy array\n",
        "            np_img = np.array(img)\n",
        "            img = np.array(img)\n",
        "            \n",
        "            # if image has multiple channels convert it to grayscale (could probably improve this)\n",
        "            if len(img.shape)>2:\n",
        "                img = cv2.cvtColor(img,cv2.COLOR_BGR2GRAY)\n",
        "            \n",
        "            # crop to include only bottom of image\n",
        "            # note in most images the ultrasound part is between 10 and 665 for the first coord (y), and 2 and 853 for the second coord (x)\n",
        "            img = img[ 500:, 22:833 ]\n",
        "            \n",
        "            # convert to black and white to increase contrast\n",
        "            threshold = 160\n",
        "            th,img = cv2.threshold(img,threshold,255,cv2.THRESH_BINARY)\n",
        "            \n",
        "            \n",
        "            # show a dilated image\n",
        "            #A larger kernel size will result in a more dilated image, which can make it easier to find contours.\n",
        "            kernel = np.ones((7,7),np.uint8)\n",
        "            img_dilated = cv2.dilate(img,kernel,iterations=5)\n",
        "            contours,hierarchy = cv2.findContours(img_dilated,cv2.RETR_EXTERNAL,cv2.CHAIN_APPROX_NONE)\n",
        "            c = max(contours,key=cv2.contourArea)\n",
        "            x,y,w,h = cv2.boundingRect(c)\n",
        "            rect = patches.Rectangle((x,y),w,h,linewidth=1,edgecolor='r',facecolor='none')\n",
        "            # fig,ax = plt.subplots()\n",
        "            # ax.imshow(img_dilated)\n",
        "            # ax.add_patch(rect)\n",
        "            # fig.show()\n",
        "\n",
        "            # Extract the text from the image using pytesseract\n",
        "            text = pytesseract.image_to_string(img[y:y+h+1,x:x+w+1])\n",
        "            text = text.replace(\"\\n\",\" \")\n",
        "            #print(len(text))\n",
        "            \n",
        "            # If the extracted text is empty, try extracting text from the entire image\n",
        "            if not text or '¢' in text or len(text.split()) == 1:\n",
        "                text = pytesseract.image_to_string(img)\n",
        "                text = text.replace(\"\\n\",\" \")\n",
        "            if len(text) <= 5:\n",
        "                reader = easyocr.Reader(['en'])\n",
        "                result = reader.readtext(np_img, paragraph=True)\n",
        "                #print(result)\n",
        "                text = result[-1][-1]\n",
        "                #print(text)\n",
        "            # Append the extracted text and filename to the list\n",
        "            text_list.append((file_name, text)) # exclude the last character which is usually a newline character\n",
        "    \n",
        "    # Create a pandas DataFrame from the text list\n",
        "    df = pd.DataFrame(text_list, columns=['image_filename', 'text'])\n",
        "    \n",
        "    return df"
      ],
      "metadata": {
        "id": "ngysO6kl7Lfq"
      },
      "execution_count": 5,
      "outputs": []
    },
    {
      "cell_type": "code",
      "source": [
        "folder_path = r\"/content/drive/MyDrive/Colab Notebooks/image\"\n",
        "df = extract_text_from_images(folder_path)\n",
        "df.to_csv('/content/drive/MyDrive/Colab Notebooks/ocrPyTessract.csv', index=False)"
      ],
      "metadata": {
        "id": "ENhyex_R7gYv",
        "colab": {
          "base_uri": "https://localhost:8080/"
        },
        "outputId": "3a6eb33f-71f6-488d-f889-4db6f73fc37c"
      },
      "execution_count": 6,
      "outputs": [
        {
          "output_type": "stream",
          "name": "stderr",
          "text": [
            "WARNING:easyocr.easyocr:Downloading detection model, please wait. This may take several minutes depending upon your network connection.\n"
          ]
        },
        {
          "output_type": "stream",
          "name": "stdout",
          "text": [
            "Progress: |██████████████████████████████████████████████████| 100.0% Complete"
          ]
        },
        {
          "output_type": "stream",
          "name": "stderr",
          "text": [
            "WARNING:easyocr.easyocr:Downloading recognition model, please wait. This may take several minutes depending upon your network connection.\n"
          ]
        },
        {
          "output_type": "stream",
          "name": "stdout",
          "text": [
            "Progress: |██████████████████████████████████████████████████| 100.0% Complete"
          ]
        }
      ]
    },
    {
      "cell_type": "code",
      "source": [
        "import pandas as pd\n",
        "from google.colab import drive\n",
        "import easyocr\n",
        "\n",
        "# Read the CSV file into a pandas DataFrame\n",
        "df = pd.read_csv('/content/drive/MyDrive/Colab Notebooks/textOnly.csv')\n",
        "\n",
        "# Filter out rows with empty 'text' column\n",
        "filtered_df = df[df['text'].isnull()]\n",
        "\n",
        "# Iterate over the filtered DataFrame and retrieve image information\n",
        "for index, row in filtered_df.iterrows():\n",
        "    image_name = row['image_filename']\n",
        "    image_path = '/content/drive/MyDrive/Colab Notebooks/image/' + image_name\n",
        "    reader = easyocr.Reader(['en'])\n",
        "    result = reader.readtext(image_path, paragraph=True)\n",
        "    filtered_df.at[index, 'text'] = result[-1][-1]\n",
        "\n",
        "# Show the filtered DataFrame\n",
        "filtered_df.shape\n"
      ],
      "metadata": {
        "colab": {
          "base_uri": "https://localhost:8080/"
        },
        "id": "tqUnNL6wPrrl",
        "outputId": "1775a306-5378-4a27-f10e-10daaab7fccf"
      },
      "execution_count": 7,
      "outputs": [
        {
          "output_type": "execute_result",
          "data": {
            "text/plain": [
              "(24, 2)"
            ]
          },
          "metadata": {},
          "execution_count": 7
        }
      ]
    },
    {
      "cell_type": "code",
      "source": [
        "filtered_df.to_csv('/content/drive/MyDrive/Colab Notebooks/FilteredText.csv', index=False)"
      ],
      "metadata": {
        "id": "DLCtUK2OH8lS"
      },
      "execution_count": null,
      "outputs": []
    },
    {
      "cell_type": "code",
      "source": [
        "filtered_df"
      ],
      "metadata": {
        "id": "02BT0T6-Pk4g",
        "colab": {
          "base_uri": "https://localhost:8080/",
          "height": 802
        },
        "outputId": "c172f77e-7ee6-4273-e31c-6cce792897ca"
      },
      "execution_count": 11,
      "outputs": [
        {
          "output_type": "execute_result",
          "data": {
            "text/plain": [
              "          image_filename                                             text\n",
              "794   000795_cropped.png                     TRANS RT BREAST 10:00 6CM FN\n",
              "797   000798_cropped.png                     TRANS RT BREAST 10:00 6CM FN\n",
              "801   000802_cropped.png                    LONG RT BREAST 10:00 6CM FN |\n",
              "803   000804_cropped.png                      LONG RT BREAST 10:00 6CM FN\n",
              "881   000882_cropped.png                      LONG RT BREAST 12:00 8CM FN\n",
              "890   000891_cropped.png                               11.30 12CM FN PALP\n",
              "1456  001457_cropped.png                    TRANS LT BREAST 10.00 1OCM FN\n",
              "1614  001615_cropped.png                     TRANS LT BREAST 10:00 4CM FN\n",
              "1664  001665_cropped.png                       LONG LT BREAST 1:30/7CM FN\n",
              "1718  001719_cropped.png                      TRANS RT BREAST 1:00 8CM FN\n",
              "1723  001724_cropped.png                      TRANS RT BREAST 1:00 8CM FN\n",
              "1725  001726_cropped.png                      TRANS RT BREAST 1:00 8CM FN\n",
              "1727  001728_cropped.png                      TRANS RT BREAST 1:00 8CM FN\n",
              "2061  002062_cropped.png                       LONG RT BREAST 1:00 9CM FN\n",
              "2066  002067_cropped.png                       LONG RT BREAST 1:00 9CM FN\n",
              "2137  002138_cropped.png               TRANS RT BREAST 12:00 RETROAREOLAR\n",
              "2474  002475_cropped.png  TRANS LT BREAST 12.30 3CM FN CONTRAST INJECTION\n",
              "2478  002479_cropped.png                       LONG LT BREAST 6.00 4CM FN\n",
              "2479  002480_cropped.png                       LONG LT BREAST 6.00 4CM FN\n",
              "2580  002581_cropped.png                      TRANS LT BREAST 1.00 7CM FN\n",
              "2596  002597_cropped.png                      TRANS LT BREAST 1:00 7CM FN\n",
              "3420  003421_cropped.png                      LONG LT BREAST 12:00 3CM FN\n",
              "3428  003429_cropped.png                      LONG LT BREAST 12:00 3CM FN\n",
              "3660  003661_cropped.png                     Trans Rt Breast 10.00 8cm FN"
            ],
            "text/html": [
              "\n",
              "  <div id=\"df-0a1ec845-ba76-4570-8f04-7ddfbc53e45b\">\n",
              "    <div class=\"colab-df-container\">\n",
              "      <div>\n",
              "<style scoped>\n",
              "    .dataframe tbody tr th:only-of-type {\n",
              "        vertical-align: middle;\n",
              "    }\n",
              "\n",
              "    .dataframe tbody tr th {\n",
              "        vertical-align: top;\n",
              "    }\n",
              "\n",
              "    .dataframe thead th {\n",
              "        text-align: right;\n",
              "    }\n",
              "</style>\n",
              "<table border=\"1\" class=\"dataframe\">\n",
              "  <thead>\n",
              "    <tr style=\"text-align: right;\">\n",
              "      <th></th>\n",
              "      <th>image_filename</th>\n",
              "      <th>text</th>\n",
              "    </tr>\n",
              "  </thead>\n",
              "  <tbody>\n",
              "    <tr>\n",
              "      <th>794</th>\n",
              "      <td>000795_cropped.png</td>\n",
              "      <td>TRANS RT BREAST 10:00 6CM FN</td>\n",
              "    </tr>\n",
              "    <tr>\n",
              "      <th>797</th>\n",
              "      <td>000798_cropped.png</td>\n",
              "      <td>TRANS RT BREAST 10:00 6CM FN</td>\n",
              "    </tr>\n",
              "    <tr>\n",
              "      <th>801</th>\n",
              "      <td>000802_cropped.png</td>\n",
              "      <td>LONG RT BREAST 10:00 6CM FN |</td>\n",
              "    </tr>\n",
              "    <tr>\n",
              "      <th>803</th>\n",
              "      <td>000804_cropped.png</td>\n",
              "      <td>LONG RT BREAST 10:00 6CM FN</td>\n",
              "    </tr>\n",
              "    <tr>\n",
              "      <th>881</th>\n",
              "      <td>000882_cropped.png</td>\n",
              "      <td>LONG RT BREAST 12:00 8CM FN</td>\n",
              "    </tr>\n",
              "    <tr>\n",
              "      <th>890</th>\n",
              "      <td>000891_cropped.png</td>\n",
              "      <td>11.30 12CM FN PALP</td>\n",
              "    </tr>\n",
              "    <tr>\n",
              "      <th>1456</th>\n",
              "      <td>001457_cropped.png</td>\n",
              "      <td>TRANS LT BREAST 10.00 1OCM FN</td>\n",
              "    </tr>\n",
              "    <tr>\n",
              "      <th>1614</th>\n",
              "      <td>001615_cropped.png</td>\n",
              "      <td>TRANS LT BREAST 10:00 4CM FN</td>\n",
              "    </tr>\n",
              "    <tr>\n",
              "      <th>1664</th>\n",
              "      <td>001665_cropped.png</td>\n",
              "      <td>LONG LT BREAST 1:30/7CM FN</td>\n",
              "    </tr>\n",
              "    <tr>\n",
              "      <th>1718</th>\n",
              "      <td>001719_cropped.png</td>\n",
              "      <td>TRANS RT BREAST 1:00 8CM FN</td>\n",
              "    </tr>\n",
              "    <tr>\n",
              "      <th>1723</th>\n",
              "      <td>001724_cropped.png</td>\n",
              "      <td>TRANS RT BREAST 1:00 8CM FN</td>\n",
              "    </tr>\n",
              "    <tr>\n",
              "      <th>1725</th>\n",
              "      <td>001726_cropped.png</td>\n",
              "      <td>TRANS RT BREAST 1:00 8CM FN</td>\n",
              "    </tr>\n",
              "    <tr>\n",
              "      <th>1727</th>\n",
              "      <td>001728_cropped.png</td>\n",
              "      <td>TRANS RT BREAST 1:00 8CM FN</td>\n",
              "    </tr>\n",
              "    <tr>\n",
              "      <th>2061</th>\n",
              "      <td>002062_cropped.png</td>\n",
              "      <td>LONG RT BREAST 1:00 9CM FN</td>\n",
              "    </tr>\n",
              "    <tr>\n",
              "      <th>2066</th>\n",
              "      <td>002067_cropped.png</td>\n",
              "      <td>LONG RT BREAST 1:00 9CM FN</td>\n",
              "    </tr>\n",
              "    <tr>\n",
              "      <th>2137</th>\n",
              "      <td>002138_cropped.png</td>\n",
              "      <td>TRANS RT BREAST 12:00 RETROAREOLAR</td>\n",
              "    </tr>\n",
              "    <tr>\n",
              "      <th>2474</th>\n",
              "      <td>002475_cropped.png</td>\n",
              "      <td>TRANS LT BREAST 12.30 3CM FN CONTRAST INJECTION</td>\n",
              "    </tr>\n",
              "    <tr>\n",
              "      <th>2478</th>\n",
              "      <td>002479_cropped.png</td>\n",
              "      <td>LONG LT BREAST 6.00 4CM FN</td>\n",
              "    </tr>\n",
              "    <tr>\n",
              "      <th>2479</th>\n",
              "      <td>002480_cropped.png</td>\n",
              "      <td>LONG LT BREAST 6.00 4CM FN</td>\n",
              "    </tr>\n",
              "    <tr>\n",
              "      <th>2580</th>\n",
              "      <td>002581_cropped.png</td>\n",
              "      <td>TRANS LT BREAST 1.00 7CM FN</td>\n",
              "    </tr>\n",
              "    <tr>\n",
              "      <th>2596</th>\n",
              "      <td>002597_cropped.png</td>\n",
              "      <td>TRANS LT BREAST 1:00 7CM FN</td>\n",
              "    </tr>\n",
              "    <tr>\n",
              "      <th>3420</th>\n",
              "      <td>003421_cropped.png</td>\n",
              "      <td>LONG LT BREAST 12:00 3CM FN</td>\n",
              "    </tr>\n",
              "    <tr>\n",
              "      <th>3428</th>\n",
              "      <td>003429_cropped.png</td>\n",
              "      <td>LONG LT BREAST 12:00 3CM FN</td>\n",
              "    </tr>\n",
              "    <tr>\n",
              "      <th>3660</th>\n",
              "      <td>003661_cropped.png</td>\n",
              "      <td>Trans Rt Breast 10.00 8cm FN</td>\n",
              "    </tr>\n",
              "  </tbody>\n",
              "</table>\n",
              "</div>\n",
              "      <button class=\"colab-df-convert\" onclick=\"convertToInteractive('df-0a1ec845-ba76-4570-8f04-7ddfbc53e45b')\"\n",
              "              title=\"Convert this dataframe to an interactive table.\"\n",
              "              style=\"display:none;\">\n",
              "        \n",
              "  <svg xmlns=\"http://www.w3.org/2000/svg\" height=\"24px\"viewBox=\"0 0 24 24\"\n",
              "       width=\"24px\">\n",
              "    <path d=\"M0 0h24v24H0V0z\" fill=\"none\"/>\n",
              "    <path d=\"M18.56 5.44l.94 2.06.94-2.06 2.06-.94-2.06-.94-.94-2.06-.94 2.06-2.06.94zm-11 1L8.5 8.5l.94-2.06 2.06-.94-2.06-.94L8.5 2.5l-.94 2.06-2.06.94zm10 10l.94 2.06.94-2.06 2.06-.94-2.06-.94-.94-2.06-.94 2.06-2.06.94z\"/><path d=\"M17.41 7.96l-1.37-1.37c-.4-.4-.92-.59-1.43-.59-.52 0-1.04.2-1.43.59L10.3 9.45l-7.72 7.72c-.78.78-.78 2.05 0 2.83L4 21.41c.39.39.9.59 1.41.59.51 0 1.02-.2 1.41-.59l7.78-7.78 2.81-2.81c.8-.78.8-2.07 0-2.86zM5.41 20L4 18.59l7.72-7.72 1.47 1.35L5.41 20z\"/>\n",
              "  </svg>\n",
              "      </button>\n",
              "      \n",
              "  <style>\n",
              "    .colab-df-container {\n",
              "      display:flex;\n",
              "      flex-wrap:wrap;\n",
              "      gap: 12px;\n",
              "    }\n",
              "\n",
              "    .colab-df-convert {\n",
              "      background-color: #E8F0FE;\n",
              "      border: none;\n",
              "      border-radius: 50%;\n",
              "      cursor: pointer;\n",
              "      display: none;\n",
              "      fill: #1967D2;\n",
              "      height: 32px;\n",
              "      padding: 0 0 0 0;\n",
              "      width: 32px;\n",
              "    }\n",
              "\n",
              "    .colab-df-convert:hover {\n",
              "      background-color: #E2EBFA;\n",
              "      box-shadow: 0px 1px 2px rgba(60, 64, 67, 0.3), 0px 1px 3px 1px rgba(60, 64, 67, 0.15);\n",
              "      fill: #174EA6;\n",
              "    }\n",
              "\n",
              "    [theme=dark] .colab-df-convert {\n",
              "      background-color: #3B4455;\n",
              "      fill: #D2E3FC;\n",
              "    }\n",
              "\n",
              "    [theme=dark] .colab-df-convert:hover {\n",
              "      background-color: #434B5C;\n",
              "      box-shadow: 0px 1px 3px 1px rgba(0, 0, 0, 0.15);\n",
              "      filter: drop-shadow(0px 1px 2px rgba(0, 0, 0, 0.3));\n",
              "      fill: #FFFFFF;\n",
              "    }\n",
              "  </style>\n",
              "\n",
              "      <script>\n",
              "        const buttonEl =\n",
              "          document.querySelector('#df-0a1ec845-ba76-4570-8f04-7ddfbc53e45b button.colab-df-convert');\n",
              "        buttonEl.style.display =\n",
              "          google.colab.kernel.accessAllowed ? 'block' : 'none';\n",
              "\n",
              "        async function convertToInteractive(key) {\n",
              "          const element = document.querySelector('#df-0a1ec845-ba76-4570-8f04-7ddfbc53e45b');\n",
              "          const dataTable =\n",
              "            await google.colab.kernel.invokeFunction('convertToInteractive',\n",
              "                                                     [key], {});\n",
              "          if (!dataTable) return;\n",
              "\n",
              "          const docLinkHtml = 'Like what you see? Visit the ' +\n",
              "            '<a target=\"_blank\" href=https://colab.research.google.com/notebooks/data_table.ipynb>data table notebook</a>'\n",
              "            + ' to learn more about interactive tables.';\n",
              "          element.innerHTML = '';\n",
              "          dataTable['output_type'] = 'display_data';\n",
              "          await google.colab.output.renderOutput(dataTable, element);\n",
              "          const docLink = document.createElement('div');\n",
              "          docLink.innerHTML = docLinkHtml;\n",
              "          element.appendChild(docLink);\n",
              "        }\n",
              "      </script>\n",
              "    </div>\n",
              "  </div>\n",
              "  "
            ]
          },
          "metadata": {},
          "execution_count": 11
        }
      ]
    }
  ]
}